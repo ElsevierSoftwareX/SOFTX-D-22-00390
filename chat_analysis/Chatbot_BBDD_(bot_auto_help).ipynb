{
 "cells": [
  {
   "cell_type": "code",
   "execution_count": 31,
   "id": "eed67131",
   "metadata": {},
   "outputs": [],
   "source": [
    "#loading in all the essentials for data manipulation\n",
    "import pandas as pd\n",
    "import numpy as np\n",
    "\n",
    "# Use counter to count the objects \n",
    "from collections import Counter\n",
    "\n",
    "# This is the visual library\n",
    "import seaborn as sns\n",
    "import matplotlib.pyplot as plt\n",
    "\n",
    "# Regex library\n",
    "import re\n",
    "\n",
    "import csv"
   ]
  },
  {
   "cell_type": "code",
   "execution_count": 32,
   "id": "95aa5ae9",
   "metadata": {},
   "outputs": [],
   "source": [
    "#loading in real data\n",
    "data = pd.read_csv(r'logs_ejercicios.csv')\n",
    "#selecting interesting columns\n",
    "df = pd.DataFrame(data, columns=['Conversación'])\n",
    "\n",
    "text_list= df.values.tolist()\n",
    "text=''.join(str(e) for e in text_list)\n",
    "\n",
    "#print(text)\n"
   ]
  },
  {
   "cell_type": "code",
   "execution_count": 33,
   "id": "7a8176ce",
   "metadata": {},
   "outputs": [
    {
     "name": "stdout",
     "output_type": "stream",
     "text": [
      "No has seleccionado los campos correctamente. --> 1270\n",
      "Tu consulta no es correcta. Revísala, e inténtalo de nuevo. --> 667\n",
      "Hay un error a la hora de filtrar. Revisa las cláusulas relacionadas. --> 555\n",
      "No hace falta que hagas un left outer join o right outer join para este ejercicio. --> 212\n",
      "Revisa los campos que usas para ordenar la consulta y comprueba si tienes que ordenar en orden ascendente o descendente con cada uno de ellos. --> 207\n",
      "Recuerda ordenar tu consulta. --> 96\n",
      "Se pide agrupar la consulta por un número distinto de campos al introducido. --> 85\n",
      "Tienes ganas de consultas más complejas, pero este ejercicio es mucho más básico. No uses select. --> 80\n",
      "Recuerda que debes utilizar la cláusula group by. --> 63\n",
      "Revisa los campos que usas para agrupar la consulta. --> 31\n",
      "Se pide ordenar la consulta por un número distinto de campos al introducido. --> 24\n",
      "Revisa las funciones usadas en el SELECT. --> 11\n",
      "Consulta para qué sirve la cláusula DISTINCT, y decide si es necesaria para este ejercicio. --> 9\n",
      "Intenta realizar este ejercicio sin usar la cláusula union. --> 5\n",
      "No debes renombrar los campos del SELECT si el enunciado no lo dice explícitamente. --> 1\n",
      "Intenta resolver este ejercicio usando la cláusula union. --> 0\n",
      "Recuerda renombrar los campos del SELECT. --> 0\n",
      "No has seleccionado las tablas correctas. --> 0\n",
      "Deberías revisar qué hace la cláusula union all. --> 0\n",
      "Debes hacer un full outer join. --> 0\n",
      "El renombramiento debe coincidir literalmente con el especificado en el enunciado. --> 0\n",
      "Estás usando un número distinto de cláusulas union al que deberías estar usando. --> 0\n",
      "No hace falta que hagas un full outer join para este ejercicio. --> 0\n",
      "Debes combinar los registros de las tablas mediante un right outer join. --> 0\n",
      "La tabla no es correcta. --> 0\n",
      "Debes combinar los registros de las tablas mediante un left outer join. --> 0\n"
     ]
    }
   ],
   "source": [
    "# Reading the sentences as a list of lists\n",
    "phrases=[]\n",
    "with open('sentences.txt',  mode=\"r\", encoding=\"utf-8\") as fd:\n",
    "    reader = csv.reader(fd)\n",
    "    for row in reader:\n",
    "        #print(row)\n",
    "        phrases.append(row)\n",
    "          \n",
    "# Transform list of sentences to a set         \n",
    "phrases_set = set(''.join(x) for x in phrases)\n",
    "#print(phrases_set)        \n",
    "\n",
    "#Create counter for each setence\n",
    "cnt = Counter(phrases_set)\n",
    "#print(cnt)\n",
    "\n",
    "#Counting sentences in the text\n",
    "for phrase in phrases_set:\n",
    "    #print(phrase)\n",
    "    cnt[phrase] = text.count(phrase)\n",
    "        \n",
    "for value, count in cnt.most_common():\n",
    "    print(value, '-->', count)\n"
   ]
  },
  {
   "cell_type": "code",
   "execution_count": 34,
   "id": "1ab7a02e",
   "metadata": {},
   "outputs": [
    {
     "data": {
      "image/png": "[encoded data removed]",
      "text/plain": [
       "<Figure size 432x288 with 1 Axes>"
      ]
     },
     "metadata": {
      "needs_background": "light"
     },
     "output_type": "display_data"
    },
    {
     "name": "stdout",
     "output_type": "stream",
     "text": [
      "0. Tu consulta no es correcta. Revísala, e inténtalo de nuevo.\n",
      "1. Intenta resolver este ejercicio usando la cláusula union.\n",
      "2. No hace falta que hagas un left outer join o right outer join para este ejercicio.\n",
      "3. Recuerda renombrar los campos del SELECT.\n",
      "4. No has seleccionado las tablas correctas.\n",
      "5. Recuerda que debes utilizar la cláusula group by.\n",
      "6. Deberías revisar qué hace la cláusula union all.\n",
      "7. Debes hacer un full outer join.\n",
      "8. El renombramiento debe coincidir literalmente con el especificado en el enunciado.\n",
      "9. Tienes ganas de consultas más complejas, pero este ejercicio es mucho más básico. No uses select.\n",
      "10. Estás usando un número distinto de cláusulas union al que deberías estar usando.\n",
      "11. Recuerda ordenar tu consulta.\n",
      "12. Hay un error a la hora de filtrar. Revisa las cláusulas relacionadas.\n",
      "13. No hace falta que hagas un full outer join para este ejercicio.\n",
      "14. Revisa las funciones usadas en el SELECT.\n",
      "15. No debes renombrar los campos del SELECT si el enunciado no lo dice explícitamente.\n",
      "16. Revisa los campos que usas para agrupar la consulta.\n",
      "17. Intenta realizar este ejercicio sin usar la cláusula union.\n",
      "18. No has seleccionado los campos correctamente.\n",
      "19. Se pide agrupar la consulta por un número distinto de campos al introducido.\n",
      "20. Debes combinar los registros de las tablas mediante un right outer join.\n",
      "21. Revisa los campos que usas para ordenar la consulta y comprueba si tienes que ordenar en orden ascendente o descendente con cada uno de ellos.\n",
      "22. Se pide ordenar la consulta por un número distinto de campos al introducido.\n",
      "23. La tabla no es correcta.\n",
      "24. Consulta para qué sirve la cláusula DISTINCT, y decide si es necesaria para este ejercicio.\n",
      "25. Debes combinar los registros de las tablas mediante un left outer join.\n"
     ]
    }
   ],
   "source": [
    "#Graph representation of the info above\n",
    "\n",
    "labels, values = zip(*cnt.items())\n",
    "\n",
    "indexes = np.arange(len(labels))\n",
    "\n",
    "plt.bar(indexes, values, width)\n",
    "plt.xticks(indexes, indexes)\n",
    "plt.show()\n",
    "\n",
    "for i, item in enumerate(phrases_set,1):\n",
    "    print(i-1, '. ' + item, sep='',end='\\n')\n"
   ]
  },
  {
   "cell_type": "code",
   "execution_count": null,
   "id": "0822609a",
   "metadata": {},
   "outputs": [],
   "source": []
  }
 ],
 "metadata": {
  "kernelspec": {
   "display_name": "python_example",
   "language": "python",
   "name": "python_example"
  },
  "language_info": {
   "codemirror_mode": {
    "name": "ipython",
    "version": 3
   },
   "file_extension": ".py",
   "mimetype": "text/x-python",
   "name": "python",
   "nbconvert_exporter": "python",
   "pygments_lexer": "ipython3",
   "version": "3.10.0"
  }
 },
 "nbformat": 4,
 "nbformat_minor": 5
}
